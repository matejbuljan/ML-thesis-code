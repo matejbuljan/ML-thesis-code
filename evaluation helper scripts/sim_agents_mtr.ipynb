{
 "cells": [
  {
   "cell_type": "markdown",
   "source": [
    "MTR sim agents pipeline for loading scenarios, predicted trajectories and doing evaluation"
   ],
   "metadata": {
    "collapsed": false
   },
   "id": "c142958df51c3c90"
  },
  {
   "cell_type": "code",
   "outputs": [],
   "source": [
    "# Imports\n",
    "import os\n",
    "import tarfile\n",
    "import numpy as np\n",
    "import tensorflow as tf\n",
    "import matplotlib.pyplot as plt\n",
    "import tqdm\n",
    "import json\n",
    "\n",
    "from waymo_open_dataset.wdl_limited.sim_agents_metrics import metric_features\n",
    "from waymo_open_dataset.wdl_limited.sim_agents_metrics import metrics\n",
    "\n",
    "from waymo_open_dataset.protos import scenario_pb2\n",
    "from waymo_open_dataset.protos import sim_agents_submission_pb2\n",
    "\n",
    "from waymo_open_dataset.utils.sim_agents import submission_specs\n",
    "from waymo_open_dataset.utils.sim_agents import test_utils as sim_agents_test_utils\n",
    "from waymo_open_dataset.utils.sim_agents import visualizations\n",
    "from waymo_open_dataset.utils import trajectory_utils\n",
    "\n",
    "# Set matplotlib to jshtml so animations work with colab.\n",
    "from matplotlib import rc\n",
    "rc('animation', html='jshtml')\n"
   ],
   "metadata": {
    "collapsed": false,
    "ExecuteTime": {
     "end_time": "2024-04-18T18:34:42.556507914Z",
     "start_time": "2024-04-18T18:34:42.480998165Z"
    }
   },
   "id": "1a9e6c3c54cc0852",
   "execution_count": 20
  },
  {
   "cell_type": "markdown",
   "source": [
    "Loading data and making the dataset"
   ],
   "metadata": {
    "collapsed": false
   },
   "id": "5133b79a3286d28e"
  },
  {
   "cell_type": "code",
   "outputs": [
    {
     "name": "stdout",
     "output_type": "stream",
     "text": [
      "Number of tfrecord files read: (1,)\n",
      "Number of predictions: 4\n"
     ]
    }
   ],
   "source": [
    "DATASET_FOLDER = '/home/mbultc/womd1_1/'\n",
    "TRAIN_FILES = os.path.join(DATASET_FOLDER, 'training/*')\n",
    "VALIDATION_FILES = os.path.join(DATASET_FOLDER, 'mini_womd1_1/validation/*')\n",
    "TEST_FILES = os.path.join(DATASET_FOLDER, 'testing/*')\n",
    "\n",
    "# Define the dataset from the TFRecords.\n",
    "filenames = tf.io.matching_files(VALIDATION_FILES)\n",
    "print(f'Number of tfrecord files read: {filenames.shape}')\n",
    "dataset = tf.data.TFRecordDataset(filenames)\n",
    "# Since these are raw Scenario protos, we need to parse them in eager mode.\n",
    "dataset_iterator = dataset.as_numpy_iterator()\n",
    "#print(f'Number of scenarios in dataset iterator: {dataset.__len__()}')\n",
    "\n",
    "# Load data from the JSON file\n",
    "with open(\"/home/mbultc/PycharmProjects/MTR/data/saved_tracks_json/first_results.json\", \"r\") as json_file:\n",
    "    loaded_data = json.load(json_file)\n",
    "\n",
    "# Retrieve tensors\n",
    "base64_rollouts_tensors = loaded_data[\"rollouts_tensors\"]\n",
    "base64_object_ids_tensors = loaded_data[\"object_ids_tensors\"]\n",
    "scenario_id_list_json = loaded_data[\"scenario_ids\"]\n",
    "\n",
    "# Convert base64-encoded strings back to byte strings\n",
    "serialized_rollouts_tensors = [tf.io.decode_base64(tensor.encode('utf-8')) for tensor in base64_rollouts_tensors]\n",
    "serialized_object_ids_tensors = [tf.io.decode_base64(tensor.encode('utf-8')) for tensor in base64_object_ids_tensors]\n",
    "\n",
    "# Deserialize tensors\n",
    "rollouts_tensors_list = [tf.io.parse_tensor(tensor, out_type=tf.float32) for tensor in serialized_rollouts_tensors]\n",
    "object_ids_list = [tf.io.parse_tensor(tensor, out_type=tf.int32) for tensor in serialized_object_ids_tensors]\n",
    "\n",
    "print(f'Number of predictions: {len(object_ids_list)}')"
   ],
   "metadata": {
    "collapsed": false,
    "ExecuteTime": {
     "end_time": "2024-04-18T18:34:42.626629158Z",
     "start_time": "2024-04-18T18:34:42.558372818Z"
    }
   },
   "id": "4789a84fddb58a6d",
   "execution_count": 21
  },
  {
   "cell_type": "markdown",
   "source": [
    "Define some useful functions"
   ],
   "metadata": {
    "collapsed": false
   },
   "id": "67ed7457917d6351"
  },
  {
   "cell_type": "code",
   "outputs": [],
   "source": [
    "def joint_scene_from_states(\n",
    "    states: tf.Tensor, object_ids: tf.Tensor\n",
    "    ) -> sim_agents_submission_pb2.JointScene:\n",
    "  # States shape: (num_objects, num_steps, 4).\n",
    "  # Objects IDs shape: (num_objects,).\n",
    "  states = states.numpy()\n",
    "  simulated_trajectories = []\n",
    "  for i_object in range(len(object_ids)):\n",
    "    simulated_trajectories.append(sim_agents_submission_pb2.SimulatedTrajectory(\n",
    "        center_x=states[i_object, :, 0], center_y=states[i_object, :, 1],\n",
    "        center_z=states[i_object, :, 2], heading=states[i_object, :, 3],\n",
    "        object_id=object_ids[i_object]\n",
    "    ))\n",
    "  return sim_agents_submission_pb2.JointScene(\n",
    "      simulated_trajectories=simulated_trajectories)\n",
    "\n",
    "def scenario_rollouts_from_states(\n",
    "    scenario: scenario_pb2.Scenario,\n",
    "    states: tf.Tensor, object_ids: tf.Tensor\n",
    "    ) -> sim_agents_submission_pb2.ScenarioRollouts:\n",
    "  # States shape: (num_rollouts, num_objects, num_steps, 4).\n",
    "  # Objects IDs shape: (num_objects,).\n",
    "  joint_scenes = []\n",
    "  for i_rollout in range(states.shape[0]):\n",
    "    joint_scenes.append(joint_scene_from_states(states[i_rollout], object_ids))\n",
    "  return sim_agents_submission_pb2.ScenarioRollouts(\n",
    "      # Note: remember to include the Scenario ID in the proto message.\n",
    "      joint_scenes=joint_scenes, scenario_id=scenario.scenario_id)\n",
    "\n",
    "from google.protobuf import text_format\n",
    "from waymo_open_dataset.protos import sim_agents_metrics_pb2\n",
    "\n",
    "def load_metrics_config() -> sim_agents_metrics_pb2.SimAgentMetricsConfig:\n",
    "    \"\"\"Loads the `SimAgentMetricsConfig` used for the challenge.\"\"\"\n",
    "    # pylint: disable=line-too-long\n",
    "    # pyformat: disable\n",
    "    config_path = '/home/mbultc/PycharmProjects/Thesis/waymo-open-dataset/src/waymo_open_dataset/wdl_limited/sim_agents_metrics/challenge_config.textproto'\n",
    "    with open(config_path, 'r') as f:\n",
    "        config = sim_agents_metrics_pb2.SimAgentMetricsConfig()\n",
    "        text_format.Parse(f.read(), config)\n",
    "    return config\n",
    "\n"
   ],
   "metadata": {
    "collapsed": false,
    "ExecuteTime": {
     "end_time": "2024-04-18T18:34:42.626976968Z",
     "start_time": "2024-04-18T18:34:42.626454278Z"
    }
   },
   "id": "571564a29f5ba5db",
   "execution_count": 22
  },
  {
   "cell_type": "markdown",
   "source": [
    "Iterate over scenarios and predicted trajectories and do evaluation"
   ],
   "metadata": {
    "collapsed": false
   },
   "id": "6a1bd6ab91425ac"
  },
  {
   "cell_type": "code",
   "outputs": [
    {
     "name": "stdout",
     "output_type": "stream",
     "text": [
      "Doing evaluation for scenario: 637f20cafde22ff8\n"
     ]
    },
    {
     "name": "stderr",
     "output_type": "stream",
     "text": [
      "2024-04-18 20:34:48.272168: E tensorflow/compiler/xla/stream_executor/cuda/cuda_blas.cc:219] failed to create cublas handle: cublas error\n",
      "2024-04-18 20:34:48.272280: E tensorflow/compiler/xla/stream_executor/cuda/cuda_blas.cc:221] Failure to initialize cublas may be due to OOM (cublas needs some free memory when you initialize it, and your deep-learning framework may have preallocated more than its fair share), or may be because this binary was not built with support for the GPU in your machine.\n",
      "2024-04-18 20:34:48.272298: W tensorflow/core/framework/op_kernel.cc:1830] OP_REQUIRES failed at matmul_op_impl.h:629 : INTERNAL: Attempting to perform BLAS operation using StreamExecutor without BLAS support\n"
     ]
    },
    {
     "ename": "InternalError",
     "evalue": "{{function_node __wrapped__Einsum_N_2_device_/job:localhost/replica:0/task:0/device:GPU:0}} Attempting to perform BLAS operation using StreamExecutor without BLAS support [Op:Einsum]",
     "output_type": "error",
     "traceback": [
      "\u001B[0;31m---------------------------------------------------------------------------\u001B[0m",
      "\u001B[0;31mInternalError\u001B[0m                             Traceback (most recent call last)",
      "Cell \u001B[0;32mIn[23], line 31\u001B[0m\n\u001B[1;32m     28\u001B[0m \u001B[38;5;66;03m# Load the test configuration.\u001B[39;00m\n\u001B[1;32m     29\u001B[0m config \u001B[38;5;241m=\u001B[39m load_metrics_config()\n\u001B[0;32m---> 31\u001B[0m scenario_metrics \u001B[38;5;241m=\u001B[39m \u001B[43mmetrics\u001B[49m\u001B[38;5;241;43m.\u001B[39;49m\u001B[43mcompute_scenario_metrics_for_bundle\u001B[49m\u001B[43m(\u001B[49m\u001B[43mconfig\u001B[49m\u001B[43m,\u001B[49m\u001B[43m \u001B[49m\u001B[43mscenario\u001B[49m\u001B[43m,\u001B[49m\u001B[43m \u001B[49m\u001B[43mscenario_rollouts\u001B[49m\u001B[43m)\u001B[49m\n\u001B[1;32m     32\u001B[0m \u001B[38;5;28mprint\u001B[39m(scenario_metrics)\n\u001B[1;32m     34\u001B[0m counter \u001B[38;5;241m+\u001B[39m\u001B[38;5;241m=\u001B[39m \u001B[38;5;241m1\u001B[39m\n",
      "File \u001B[0;32m~/miniconda3/envs/mtr/lib/python3.9/site-packages/waymo_open_dataset/wdl_limited/sim_agents_metrics/metrics.py:70\u001B[0m, in \u001B[0;36mcompute_scenario_metrics_for_bundle\u001B[0;34m(config, scenario, scenario_rollouts)\u001B[0m\n\u001B[1;32m     67\u001B[0m \u001B[38;5;250m\u001B[39m\u001B[38;5;124;03m\"\"\"Computes the scenario-level metrics for the given bundle.\"\"\"\u001B[39;00m\n\u001B[1;32m     68\u001B[0m \u001B[38;5;66;03m# Computes the metric features for log and sim.\u001B[39;00m\n\u001B[1;32m     69\u001B[0m log_features, sim_features \u001B[38;5;241m=\u001B[39m (\n\u001B[0;32m---> 70\u001B[0m     \u001B[43mmetric_features\u001B[49m\u001B[38;5;241;43m.\u001B[39;49m\u001B[43mcompute_scenario_rollouts_features\u001B[49m\u001B[43m(\u001B[49m\n\u001B[1;32m     71\u001B[0m \u001B[43m        \u001B[49m\u001B[43mscenario\u001B[49m\u001B[43m,\u001B[49m\u001B[43m \u001B[49m\u001B[43mscenario_rollouts\u001B[49m\u001B[43m)\u001B[49m\n\u001B[1;32m     72\u001B[0m   )\n\u001B[1;32m     74\u001B[0m \u001B[38;5;66;03m# ==== Average Displacement Error ====\u001B[39;00m\n\u001B[1;32m     75\u001B[0m \u001B[38;5;66;03m# This metric is not included in the scoring meta-metric, but we report it\u001B[39;00m\n\u001B[1;32m     76\u001B[0m \u001B[38;5;66;03m# to have a baseline comparison with existing Behaviour Prediction challenges.\u001B[39;00m\n\u001B[1;32m     77\u001B[0m \u001B[38;5;66;03m# We report both ADE (averaged over simulations and objects) and minADE\u001B[39;00m\n\u001B[1;32m     78\u001B[0m \u001B[38;5;66;03m# (averaged over objects, minimum over simulations).\u001B[39;00m\n\u001B[1;32m     79\u001B[0m average_displacement_error \u001B[38;5;241m=\u001B[39m tf\u001B[38;5;241m.\u001B[39mreduce_mean(\n\u001B[1;32m     80\u001B[0m     sim_features\u001B[38;5;241m.\u001B[39maverage_displacement_error)\n",
      "File \u001B[0;32m~/miniconda3/envs/mtr/lib/python3.9/site-packages/waymo_open_dataset/wdl_limited/sim_agents_metrics/metric_features.py:287\u001B[0m, in \u001B[0;36mcompute_scenario_rollouts_features\u001B[0;34m(scenario, scenario_rollouts)\u001B[0m\n\u001B[1;32m    276\u001B[0m \u001B[38;5;250m\u001B[39m\u001B[38;5;124;03m\"\"\"Computes the metrics features for both logged and simulated scenarios.\u001B[39;00m\n\u001B[1;32m    277\u001B[0m \n\u001B[1;32m    278\u001B[0m \u001B[38;5;124;03mArgs:\u001B[39;00m\n\u001B[0;32m   (...)\u001B[0m\n\u001B[1;32m    284\u001B[0m \u001B[38;5;124;03m  the second from simulation with n_samples=`submission_specs.N_ROLLOUTS`.\u001B[39;00m\n\u001B[1;32m    285\u001B[0m \u001B[38;5;124;03m\"\"\"\u001B[39;00m\n\u001B[1;32m    286\u001B[0m log_joint_scene \u001B[38;5;241m=\u001B[39m converters\u001B[38;5;241m.\u001B[39mscenario_to_joint_scene(scenario)\n\u001B[0;32m--> 287\u001B[0m log_features \u001B[38;5;241m=\u001B[39m \u001B[43mcompute_metric_features\u001B[49m\u001B[43m(\u001B[49m\n\u001B[1;32m    288\u001B[0m \u001B[43m    \u001B[49m\u001B[43mscenario\u001B[49m\u001B[43m,\u001B[49m\u001B[43m \u001B[49m\u001B[43mlog_joint_scene\u001B[49m\u001B[43m,\u001B[49m\u001B[43m \u001B[49m\u001B[43muse_log_validity\u001B[49m\u001B[38;5;241;43m=\u001B[39;49m\u001B[38;5;28;43;01mTrue\u001B[39;49;00m\u001B[43m)\u001B[49m\n\u001B[1;32m    290\u001B[0m \u001B[38;5;66;03m# Aggregate the different parallel simulations.\u001B[39;00m\n\u001B[1;32m    291\u001B[0m features_fields \u001B[38;5;241m=\u001B[39m [field\u001B[38;5;241m.\u001B[39mname \u001B[38;5;28;01mfor\u001B[39;00m field \u001B[38;5;129;01min\u001B[39;00m dataclasses\u001B[38;5;241m.\u001B[39mfields(MetricFeatures)]\n",
      "File \u001B[0;32m~/miniconda3/envs/mtr/lib/python3.9/site-packages/waymo_open_dataset/wdl_limited/sim_agents_metrics/metric_features.py:196\u001B[0m, in \u001B[0;36mcompute_metric_features\u001B[0;34m(scenario, joint_scene, use_log_validity)\u001B[0m\n\u001B[1;32m    186\u001B[0m evaluated_object_mask \u001B[38;5;241m=\u001B[39m tf\u001B[38;5;241m.\u001B[39mreduce_any(\n\u001B[1;32m    187\u001B[0m     \u001B[38;5;66;03m# `evaluated_sim_agents` shape: (n_evaluated_objects,).\u001B[39;00m\n\u001B[1;32m    188\u001B[0m     \u001B[38;5;66;03m# `simulated_trajectories.object_id` shape: (n_objects,).\u001B[39;00m\n\u001B[0;32m   (...)\u001B[0m\n\u001B[1;32m    191\u001B[0m     axis\u001B[38;5;241m=\u001B[39m\u001B[38;5;241m0\u001B[39m,\n\u001B[1;32m    192\u001B[0m )\n\u001B[1;32m    193\u001B[0m \u001B[38;5;66;03m# Interactive features are computed between all simulated objects, but only\u001B[39;00m\n\u001B[1;32m    194\u001B[0m \u001B[38;5;66;03m# scored for evaluated objects.\u001B[39;00m\n\u001B[1;32m    195\u001B[0m distances_to_objects \u001B[38;5;241m=\u001B[39m (\n\u001B[0;32m--> 196\u001B[0m     \u001B[43minteraction_features\u001B[49m\u001B[38;5;241;43m.\u001B[39;49m\u001B[43mcompute_distance_to_nearest_object\u001B[49m\u001B[43m(\u001B[49m\n\u001B[1;32m    197\u001B[0m \u001B[43m        \u001B[49m\u001B[43mcenter_x\u001B[49m\u001B[38;5;241;43m=\u001B[39;49m\u001B[43msimulated_trajectories\u001B[49m\u001B[38;5;241;43m.\u001B[39;49m\u001B[43mx\u001B[49m\u001B[43m,\u001B[49m\n\u001B[1;32m    198\u001B[0m \u001B[43m        \u001B[49m\u001B[43mcenter_y\u001B[49m\u001B[38;5;241;43m=\u001B[39;49m\u001B[43msimulated_trajectories\u001B[49m\u001B[38;5;241;43m.\u001B[39;49m\u001B[43my\u001B[49m\u001B[43m,\u001B[49m\n\u001B[1;32m    199\u001B[0m \u001B[43m        \u001B[49m\u001B[43mcenter_z\u001B[49m\u001B[38;5;241;43m=\u001B[39;49m\u001B[43msimulated_trajectories\u001B[49m\u001B[38;5;241;43m.\u001B[39;49m\u001B[43mz\u001B[49m\u001B[43m,\u001B[49m\n\u001B[1;32m    200\u001B[0m \u001B[43m        \u001B[49m\u001B[43mlength\u001B[49m\u001B[38;5;241;43m=\u001B[39;49m\u001B[43msimulated_trajectories\u001B[49m\u001B[38;5;241;43m.\u001B[39;49m\u001B[43mlength\u001B[49m\u001B[43m,\u001B[49m\n\u001B[1;32m    201\u001B[0m \u001B[43m        \u001B[49m\u001B[43mwidth\u001B[49m\u001B[38;5;241;43m=\u001B[39;49m\u001B[43msimulated_trajectories\u001B[49m\u001B[38;5;241;43m.\u001B[39;49m\u001B[43mwidth\u001B[49m\u001B[43m,\u001B[49m\n\u001B[1;32m    202\u001B[0m \u001B[43m        \u001B[49m\u001B[43mheight\u001B[49m\u001B[38;5;241;43m=\u001B[39;49m\u001B[43msimulated_trajectories\u001B[49m\u001B[38;5;241;43m.\u001B[39;49m\u001B[43mheight\u001B[49m\u001B[43m,\u001B[49m\n\u001B[1;32m    203\u001B[0m \u001B[43m        \u001B[49m\u001B[43mheading\u001B[49m\u001B[38;5;241;43m=\u001B[39;49m\u001B[43msimulated_trajectories\u001B[49m\u001B[38;5;241;43m.\u001B[39;49m\u001B[43mheading\u001B[49m\u001B[43m,\u001B[49m\n\u001B[1;32m    204\u001B[0m \u001B[43m        \u001B[49m\u001B[43mvalid\u001B[49m\u001B[38;5;241;43m=\u001B[39;49m\u001B[43msimulated_trajectories\u001B[49m\u001B[38;5;241;43m.\u001B[39;49m\u001B[43mvalid\u001B[49m\u001B[43m,\u001B[49m\n\u001B[1;32m    205\u001B[0m \u001B[43m        \u001B[49m\u001B[43mevaluated_object_mask\u001B[49m\u001B[38;5;241;43m=\u001B[39;49m\u001B[43mevaluated_object_mask\u001B[49m\n\u001B[1;32m    206\u001B[0m \u001B[43m        \u001B[49m\u001B[43m)\u001B[49m)\n\u001B[1;32m    207\u001B[0m \u001B[38;5;66;03m# Slice in time, as `simulated_trajectories` also include the history steps.\u001B[39;00m\n\u001B[1;32m    208\u001B[0m distances_to_objects \u001B[38;5;241m=\u001B[39m (\n\u001B[1;32m    209\u001B[0m     distances_to_objects[:, submission_specs\u001B[38;5;241m.\u001B[39mCURRENT_TIME_INDEX\u001B[38;5;241m+\u001B[39m\u001B[38;5;241m1\u001B[39m:])\n",
      "File \u001B[0;32m~/miniconda3/envs/mtr/lib/python3.9/site-packages/waymo_open_dataset/wdl_limited/sim_agents_metrics/interaction_features.py:93\u001B[0m, in \u001B[0;36mcompute_distance_to_nearest_object\u001B[0;34m(center_x, center_y, center_z, length, width, height, heading, valid, evaluated_object_mask)\u001B[0m\n\u001B[1;32m     89\u001B[0m boxes \u001B[38;5;241m=\u001B[39m tf\u001B[38;5;241m.\u001B[39mreshape(boxes, [num_objects \u001B[38;5;241m*\u001B[39m num_steps, num_features])\n\u001B[1;32m     90\u001B[0m \u001B[38;5;66;03m# Compute box corners using `box_utils`, and take xy coordinates of the lower\u001B[39;00m\n\u001B[1;32m     91\u001B[0m \u001B[38;5;66;03m# 4 corners (lower in terms of z-coordinate), as we are only computing\u001B[39;00m\n\u001B[1;32m     92\u001B[0m \u001B[38;5;66;03m# distances for 2D boxes.\u001B[39;00m\n\u001B[0;32m---> 93\u001B[0m box_corners \u001B[38;5;241m=\u001B[39m \u001B[43mbox_utils\u001B[49m\u001B[38;5;241;43m.\u001B[39;49m\u001B[43mget_upright_3d_box_corners\u001B[49m\u001B[43m(\u001B[49m\u001B[43mboxes\u001B[49m\u001B[43m)\u001B[49m[:, :\u001B[38;5;241m4\u001B[39m, :\u001B[38;5;241m2\u001B[39m]\n\u001B[1;32m     94\u001B[0m box_corners \u001B[38;5;241m=\u001B[39m tf\u001B[38;5;241m.\u001B[39mreshape(box_corners, (num_objects, num_steps, \u001B[38;5;241m4\u001B[39m, \u001B[38;5;241m2\u001B[39m))\n\u001B[1;32m     96\u001B[0m \u001B[38;5;66;03m# Rearrange the boxes based on `evaluated_object_mask`. We want two sets of\u001B[39;00m\n\u001B[1;32m     97\u001B[0m \u001B[38;5;66;03m# boxes: the first one including just the evaluated objects, the second one\u001B[39;00m\n\u001B[1;32m     98\u001B[0m \u001B[38;5;66;03m# with all the boxes, but having the evaluated objects as first (this is used\u001B[39;00m\n\u001B[1;32m     99\u001B[0m \u001B[38;5;66;03m# later to filter out self distances).\u001B[39;00m\n\u001B[1;32m    100\u001B[0m \u001B[38;5;66;03m# `eval_corners` shape: (num_evaluated_objects, num_steps, 4, 2).\u001B[39;00m\n",
      "File \u001B[0;32m~/miniconda3/envs/mtr/lib/python3.9/site-packages/waymo_open_dataset/utils/box_utils.py:171\u001B[0m, in \u001B[0;36mget_upright_3d_box_corners\u001B[0;34m(boxes, name)\u001B[0m\n\u001B[1;32m    164\u001B[0m corners \u001B[38;5;241m=\u001B[39m tf\u001B[38;5;241m.\u001B[39mreshape(\n\u001B[1;32m    165\u001B[0m     tf\u001B[38;5;241m.\u001B[39mstack([\n\u001B[1;32m    166\u001B[0m         l2, w2, \u001B[38;5;241m-\u001B[39mh2, \u001B[38;5;241m-\u001B[39ml2, w2, \u001B[38;5;241m-\u001B[39mh2, \u001B[38;5;241m-\u001B[39ml2, \u001B[38;5;241m-\u001B[39mw2, \u001B[38;5;241m-\u001B[39mh2, l2, \u001B[38;5;241m-\u001B[39mw2, \u001B[38;5;241m-\u001B[39mh2, l2, w2, h2,\n\u001B[1;32m    167\u001B[0m         \u001B[38;5;241m-\u001B[39ml2, w2, h2, \u001B[38;5;241m-\u001B[39ml2, \u001B[38;5;241m-\u001B[39mw2, h2, l2, \u001B[38;5;241m-\u001B[39mw2, h2\n\u001B[1;32m    168\u001B[0m     ],\n\u001B[1;32m    169\u001B[0m              axis\u001B[38;5;241m=\u001B[39m\u001B[38;5;241m-\u001B[39m\u001B[38;5;241m1\u001B[39m), [\u001B[38;5;241m-\u001B[39m\u001B[38;5;241m1\u001B[39m, \u001B[38;5;241m8\u001B[39m, \u001B[38;5;241m3\u001B[39m])\n\u001B[1;32m    170\u001B[0m \u001B[38;5;66;03m# [N, 8, 3]\u001B[39;00m\n\u001B[0;32m--> 171\u001B[0m corners \u001B[38;5;241m=\u001B[39m \u001B[43mtf\u001B[49m\u001B[38;5;241;43m.\u001B[39;49m\u001B[43meinsum\u001B[49m\u001B[43m(\u001B[49m\u001B[38;5;124;43m'\u001B[39;49m\u001B[38;5;124;43mnij,nkj->nki\u001B[39;49m\u001B[38;5;124;43m'\u001B[39;49m\u001B[43m,\u001B[49m\u001B[43m \u001B[49m\u001B[43mrotation\u001B[49m\u001B[43m,\u001B[49m\u001B[43m \u001B[49m\u001B[43mcorners\u001B[49m\u001B[43m)\u001B[49m \u001B[38;5;241m+\u001B[39m tf\u001B[38;5;241m.\u001B[39mexpand_dims(\n\u001B[1;32m    172\u001B[0m     translation, axis\u001B[38;5;241m=\u001B[39m\u001B[38;5;241m-\u001B[39m\u001B[38;5;241m2\u001B[39m)\n\u001B[1;32m    174\u001B[0m \u001B[38;5;28;01mreturn\u001B[39;00m corners\n",
      "File \u001B[0;32m~/miniconda3/envs/mtr/lib/python3.9/site-packages/tensorflow/python/util/traceback_utils.py:153\u001B[0m, in \u001B[0;36mfilter_traceback.<locals>.error_handler\u001B[0;34m(*args, **kwargs)\u001B[0m\n\u001B[1;32m    151\u001B[0m \u001B[38;5;28;01mexcept\u001B[39;00m \u001B[38;5;167;01mException\u001B[39;00m \u001B[38;5;28;01mas\u001B[39;00m e:\n\u001B[1;32m    152\u001B[0m   filtered_tb \u001B[38;5;241m=\u001B[39m _process_traceback_frames(e\u001B[38;5;241m.\u001B[39m__traceback__)\n\u001B[0;32m--> 153\u001B[0m   \u001B[38;5;28;01mraise\u001B[39;00m e\u001B[38;5;241m.\u001B[39mwith_traceback(filtered_tb) \u001B[38;5;28;01mfrom\u001B[39;00m \u001B[38;5;28;01mNone\u001B[39;00m\n\u001B[1;32m    154\u001B[0m \u001B[38;5;28;01mfinally\u001B[39;00m:\n\u001B[1;32m    155\u001B[0m   \u001B[38;5;28;01mdel\u001B[39;00m filtered_tb\n",
      "File \u001B[0;32m~/miniconda3/envs/mtr/lib/python3.9/site-packages/tensorflow/python/framework/ops.py:7215\u001B[0m, in \u001B[0;36mraise_from_not_ok_status\u001B[0;34m(e, name)\u001B[0m\n\u001B[1;32m   7213\u001B[0m \u001B[38;5;28;01mdef\u001B[39;00m \u001B[38;5;21mraise_from_not_ok_status\u001B[39m(e, name):\n\u001B[1;32m   7214\u001B[0m   e\u001B[38;5;241m.\u001B[39mmessage \u001B[38;5;241m+\u001B[39m\u001B[38;5;241m=\u001B[39m (\u001B[38;5;124m\"\u001B[39m\u001B[38;5;124m name: \u001B[39m\u001B[38;5;124m\"\u001B[39m \u001B[38;5;241m+\u001B[39m name \u001B[38;5;28;01mif\u001B[39;00m name \u001B[38;5;129;01mis\u001B[39;00m \u001B[38;5;129;01mnot\u001B[39;00m \u001B[38;5;28;01mNone\u001B[39;00m \u001B[38;5;28;01melse\u001B[39;00m \u001B[38;5;124m\"\u001B[39m\u001B[38;5;124m\"\u001B[39m)\n\u001B[0;32m-> 7215\u001B[0m   \u001B[38;5;28;01mraise\u001B[39;00m core\u001B[38;5;241m.\u001B[39m_status_to_exception(e) \u001B[38;5;28;01mfrom\u001B[39;00m \u001B[38;5;28;01mNone\u001B[39;00m\n",
      "\u001B[0;31mInternalError\u001B[0m: {{function_node __wrapped__Einsum_N_2_device_/job:localhost/replica:0/task:0/device:GPU:0}} Attempting to perform BLAS operation using StreamExecutor without BLAS support [Op:Einsum]"
     ]
    }
   ],
   "source": [
    "counter = 0\n",
    "for bytes_example in dataset_iterator:\n",
    "    scenario = scenario_pb2.Scenario.FromString(bytes_example)\n",
    "    assert scenario.scenario_id == scenario_id_list_json[counter], \"Mismatch between scenario ids\"\n",
    "    print(f'Doing evaluation for scenario: {scenario.scenario_id}')\n",
    "    \n",
    "    simulated_states = rollouts_tensors_list[counter]\n",
    "    object_ids = object_ids_list[counter]\n",
    "    \n",
    "    scenario_rollouts = scenario_rollouts_from_states(scenario, simulated_states, object_ids)\n",
    "    # As before, we can validate the message we just generate.\n",
    "    submission_specs.validate_scenario_rollouts(scenario_rollouts, scenario)\n",
    "\n",
    "    # Load the test configuration.\n",
    "    config = load_metrics_config()\n",
    "\n",
    "    scenario_metrics = metrics.compute_scenario_metrics_for_bundle(config, scenario, scenario_rollouts)\n",
    "    print(scenario_metrics)\n",
    "    \n",
    "    counter += 1\n",
    "    if counter >= len(rollouts_tensors_list):\n",
    "        break"
   ],
   "metadata": {
    "collapsed": false,
    "ExecuteTime": {
     "end_time": "2024-04-18T18:34:48.354088229Z",
     "start_time": "2024-04-18T18:34:42.626658623Z"
    }
   },
   "id": "1251e0ee01f568e2",
   "execution_count": 23
  },
  {
   "cell_type": "markdown",
   "source": [],
   "metadata": {
    "collapsed": false
   },
   "id": "aa66be65e31d9423"
  }
 ],
 "metadata": {
  "kernelspec": {
   "display_name": "Python 3",
   "language": "python",
   "name": "python3"
  },
  "language_info": {
   "codemirror_mode": {
    "name": "ipython",
    "version": 2
   },
   "file_extension": ".py",
   "mimetype": "text/x-python",
   "name": "python",
   "nbconvert_exporter": "python",
   "pygments_lexer": "ipython2",
   "version": "2.7.6"
  }
 },
 "nbformat": 4,
 "nbformat_minor": 5
}
